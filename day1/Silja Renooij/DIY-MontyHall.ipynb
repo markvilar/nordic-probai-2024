{
 "cells": [
  {
   "cell_type": "markdown",
   "metadata": {
    "colab_type": "text",
    "id": "view-in-github"
   },
   "source": [
    "<a href=\"https://colab.research.google.com/github/Ludvins/PAC_Bayes_Chernoff_MLL/blob/main/DIY-MontyHall.ipynb\" target=\"_parent\"><img src=\"https://colab.research.google.com/assets/colab-badge.svg\" alt=\"Open In Colab\"/></a>"
   ]
  },
  {
   "cell_type": "markdown",
   "metadata": {
    "id": "HjsmglaI669M"
   },
   "source": [
    "# Monty Hall problem (fragments of code originally from pgmpy.org)"
   ]
  },
  {
   "cell_type": "markdown",
   "metadata": {
    "id": "LTamPmamCCBl"
   },
   "source": [
    "First make sure that all necessary libraries are installed and imported (more information about pgmpy, including tutorials, can be found on https://pgmpy.org/):"
   ]
  },
  {
   "cell_type": "code",
   "execution_count": 8,
   "metadata": {
    "colab": {
     "base_uri": "https://localhost:8080/"
    },
    "id": "wgslUkcc5APT",
    "outputId": "0d30d441-6285-4b44-d5cb-17b03c12e6ae"
   },
   "outputs": [],
   "source": [
    "#!pip install pgmpy"
   ]
  },
  {
   "cell_type": "code",
   "execution_count": 9,
   "metadata": {
    "id": "DxRk25VNHCMx"
   },
   "outputs": [],
   "source": [
    "from pgmpy.models import BayesianNetwork\n",
    "from pgmpy.factors.discrete import TabularCPD\n",
    "from pgmpy.inference import VariableElimination\n",
    "\n",
    "import networkx as nx\n",
    "import matplotlib.pyplot as plt"
   ]
  },
  {
   "cell_type": "markdown",
   "metadata": {
    "id": "yC3sR9106s2k"
   },
   "source": [
    "---\n",
    "The Monty Hall problem was just explained to you. Recall that there are three variables:\n",
    "\n",
    "C, your choice of door\n",
    "\n",
    "H, door opened by host\n",
    "\n",
    "R, door with real prize\n",
    "\n",
    "Each of these variables has 3 values (0,1,2) representing the three different doors.\n",
    "\n",
    "---\n",
    "\n",
    "We now first define the Bayesian network structure by passing the list of edges. We focus on the structure corresponding to option (IV) discussed. Feel free to change this to a different structure by adding or removing edges."
   ]
  },
  {
   "cell_type": "code",
   "execution_count": 10,
   "metadata": {
    "colab": {
     "base_uri": "https://localhost:8080/",
     "height": 516
    },
    "id": "iiJ18g-dGI6o",
    "outputId": "1d4dce34-26b0-4f33-b7e4-af05f4675e2d"
   },
   "outputs": [
    {
     "data": {
      "image/png": "[encoded data removed]",
      "text/plain": [
       "<Figure size 640x480 with 1 Axes>"
      ]
     },
     "metadata": {},
     "output_type": "display_data"
    }
   ],
   "source": [
    "# Define network structure:\n",
    "bn = BayesianNetwork()\n",
    "bn.add_nodes_from(['C', 'H', 'R'])\n",
    "bn.add_edges_from([('C','H'),('R','H')])\n",
    "\n",
    "# Draw the last defined structure:\n",
    "bngraph = nx.DiGraph(bn.edges())\n",
    "nx.draw(bngraph, with_labels = True)\n",
    "plt.show()"
   ]
  },
  {
   "cell_type": "markdown",
   "metadata": {
    "id": "yNXkJhsITHuW"
   },
   "source": [
    "When the network structure is done, the associated (conditional) probability distributions have to be defined, using TabularCPD.\n",
    "\n",
    "TabularCPD takes 5 arguments: the first is the variable name, followed by its cardinality (number of values), then a list with lists of probabilities; the evidence argument then provides a list of parents of the variable, followed by their cardinalities. The order in which the parents are listed in the evidence argument determines the order in which they are listed in the CPD: per value v of the variable (the columns in your table) there is a list of probabilities for v conditioned on all parent configurations (the rows in your table).\n",
    "\n",
    "Let's add and check the CPDs for the defined structure.\n"
   ]
  },
  {
   "cell_type": "code",
   "execution_count": 11,
   "metadata": {
    "colab": {
     "base_uri": "https://localhost:8080/"
    },
    "id": "EX98M_XnY0_3",
    "outputId": "55f4cb40-576c-4bc5-aa06-c31ec2860f04"
   },
   "outputs": [
    {
     "name": "stdout",
     "output_type": "stream",
     "text": [
      "+------+----------+\n",
      "| C(0) | 0.333333 |\n",
      "+------+----------+\n",
      "| C(1) | 0.333333 |\n",
      "+------+----------+\n",
      "| C(2) | 0.333333 |\n",
      "+------+----------+\n",
      "+------+----------+\n",
      "| R(0) | 0.333333 |\n",
      "+------+----------+\n",
      "| R(1) | 0.333333 |\n",
      "+------+----------+\n",
      "| R(2) | 0.333333 |\n",
      "+------+----------+\n",
      "+------+------+------+------+------+------+------+------+------+------+\n",
      "| C    | C(0) | C(0) | C(0) | C(1) | C(1) | C(1) | C(2) | C(2) | C(2) |\n",
      "+------+------+------+------+------+------+------+------+------+------+\n",
      "| R    | R(0) | R(1) | R(2) | R(0) | R(1) | R(2) | R(0) | R(1) | R(2) |\n",
      "+------+------+------+------+------+------+------+------+------+------+\n",
      "| H(0) | 0.0  | 0.0  | 0.0  | 0.0  | 0.5  | 1.0  | 0.0  | 1.0  | 0.5  |\n",
      "+------+------+------+------+------+------+------+------+------+------+\n",
      "| H(1) | 0.5  | 0.0  | 1.0  | 0.0  | 0.0  | 0.0  | 1.0  | 0.0  | 0.5  |\n",
      "+------+------+------+------+------+------+------+------+------+------+\n",
      "| H(2) | 0.5  | 1.0  | 0.0  | 1.0  | 0.5  | 0.0  | 0.0  | 0.0  | 0.0  |\n",
      "+------+------+------+------+------+------+------+------+------+------+\n"
     ]
    }
   ],
   "source": [
    "# Define the CPD for variable 'C'\n",
    "cpd_c = TabularCPD('C', 3, [ [1/3],\n",
    "                             [1/3],\n",
    "                             [1/3]  ],\n",
    "                   evidence=[],\n",
    "                   evidence_card=[] )\n",
    "\n",
    "\n",
    "# Define the CPD for variable 'R'\n",
    "cpd_r = TabularCPD('R', 3, [ [1/3],\n",
    "                             [1/3],\n",
    "                             [1/3] ],\n",
    "                   evidence=[],\n",
    "                   evidence_card=[] )\n",
    "\n",
    "\n",
    "\n",
    "# Define the CPD for variable 'H'\n",
    "# order of parent configurations: C=0,R=0; C=1,R=0; C=2,R=0; C=0,R=1; C=1,R=1; C=2,R=1; C=0,R=2; C=1,R=2; C=2,R=2\n",
    "cpd_h = TabularCPD('H', 3, [ [0,0,0,0,1/2,1,0,1,1/2],\n",
    "                             [1/2,0,1,0,0,0,1,0,1/2],\n",
    "                             [1/2,1,0,1,1/2,0,0,0,0] ],\n",
    "                   evidence= ['C','R'],\n",
    "                   evidence_card= [3,3] )\n",
    "\n",
    "\n",
    "\n",
    "# Associate the CPDs with the network structure:\n",
    "bn.add_cpds(cpd_c,cpd_r,cpd_h)\n",
    "\n",
    "# Return the defined CPDs\n",
    "for i in bn.get_cpds():\n",
    "    print(i)"
   ]
  },
  {
   "cell_type": "markdown",
   "metadata": {
    "id": "lNNY1J-uAJn8"
   },
   "source": [
    "**Question:** consider the probabilities specified in the CPDs. What assumptions underly these numbers? Do you agree with them? Feel free to try some alternatives and see how that affects the probabilities that we will compute below. (Use the model check to verify that you still have a valid model if you do make changes)"
   ]
  },
  {
   "cell_type": "code",
   "execution_count": 12,
   "metadata": {
    "colab": {
     "base_uri": "https://localhost:8080/"
    },
    "id": "ACggF1mX6sU8",
    "outputId": "facce96e-9254-46f5-c680-0c04fc11cf7e"
   },
   "outputs": [
    {
     "data": {
      "text/plain": [
       "True"
      ]
     },
     "execution_count": 12,
     "metadata": {},
     "output_type": "execute_result"
    }
   ],
   "source": [
    "# check the model structure and the associated CPDs: returns True if model syntax is correct otherwise throws an exception\n",
    "bn.check_model()"
   ]
  },
  {
   "cell_type": "markdown",
   "metadata": {
    "id": "uXpGnpgzDlWq"
   },
   "source": [
    "Now that the model is specified we can compute probabilities from it. We can enter evidence into the network:\n",
    "- the door of your choice (e.g. C=0 for the first door; change below if you want), and\n",
    "- the door opened by the host (e.g. H=2 for the third door; change below if you want).\n",
    "\n",
    "Then we compute the posterior distribution over R given the evidence to determine which door is most likely to have the real prize behind it.\n",
    "\n",
    "Are you going to switch doors?"
   ]
  },
  {
   "cell_type": "code",
   "execution_count": 13,
   "metadata": {
    "colab": {
     "base_uri": "https://localhost:8080/"
    },
    "id": "al90afrw7Oiq",
    "outputId": "ae5bdb28-3e93-47ad-bb4a-42b4e96d0e8c"
   },
   "outputs": [
    {
     "name": "stdout",
     "output_type": "stream",
     "text": [
      "+------+----------+\n",
      "| R    |   phi(R) |\n",
      "+======+==========+\n",
      "| R(0) |   0.3333 |\n",
      "+------+----------+\n",
      "| R(1) |   0.6667 |\n",
      "+------+----------+\n",
      "| R(2) |   0.0000 |\n",
      "+------+----------+\n"
     ]
    }
   ],
   "source": [
    "# Infering the posterior over R given C and H\n",
    "infer = VariableElimination(bn)\n",
    "posterior_r = infer.query([\"R\"], evidence={\"C\": 0, \"H\": 2})\n",
    "print(posterior_r)"
   ]
  },
  {
   "cell_type": "markdown",
   "metadata": {
    "id": "exiH5Xp0X1Hu"
   },
   "source": [
    "We can also enter evidence for R and H and compute a posterior for C. What is the interpretation of this posterior?"
   ]
  },
  {
   "cell_type": "code",
   "execution_count": 14,
   "metadata": {
    "colab": {
     "base_uri": "https://localhost:8080/"
    },
    "id": "EnatWsyGbRTi",
    "outputId": "caba7d88-86eb-456f-beeb-31f45800d925"
   },
   "outputs": [
    {
     "name": "stdout",
     "output_type": "stream",
     "text": [
      "+------+----------+\n",
      "| C    |   phi(C) |\n",
      "+======+==========+\n",
      "| C(0) |   0.6667 |\n",
      "+------+----------+\n",
      "| C(1) |   0.3333 |\n",
      "+------+----------+\n",
      "| C(2) |   0.0000 |\n",
      "+------+----------+\n"
     ]
    }
   ],
   "source": [
    "# Infering the posterior over C given R and H\n",
    "posterior_c = infer.query([\"C\"], evidence={\"R\": 1, \"H\": 2})\n",
    "print(posterior_c)"
   ]
  }
 ],
 "metadata": {
  "colab": {
   "include_colab_link": true,
   "provenance": []
  },
  "kernelspec": {
   "display_name": "Python 3 (ipykernel)",
   "language": "python",
   "name": "python3"
  },
  "language_info": {
   "codemirror_mode": {
    "name": "ipython",
    "version": 3
   },
   "file_extension": ".py",
   "mimetype": "text/x-python",
   "name": "python",
   "nbconvert_exporter": "python",
   "pygments_lexer": "ipython3",
   "version": "3.12.4"
  }
 },
 "nbformat": 4,
 "nbformat_minor": 4
}
